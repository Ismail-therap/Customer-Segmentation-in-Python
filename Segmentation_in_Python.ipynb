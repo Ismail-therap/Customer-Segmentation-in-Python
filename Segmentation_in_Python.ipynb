{
 "cells": [
  {
   "cell_type": "code",
   "execution_count": 2,
   "metadata": {},
   "outputs": [
    {
     "name": "stdout",
     "output_type": "stream",
     "text": [
      "<class 'pandas.core.frame.DataFrame'>\n",
      "RangeIndex: 5357 entries, 0 to 5356\n",
      "Data columns (total 5 columns):\n",
      "market               5357 non-null object\n",
      "producer             5357 non-null object\n",
      "totalcomb            5357 non-null int64\n",
      "newrfpdtq            5357 non-null int64\n",
      "combnewrenrfpsold    5357 non-null int64\n",
      "dtypes: int64(3), object(2)\n",
      "memory usage: 209.3+ KB\n"
     ]
    }
   ],
   "source": [
    "#Now let's open it with pandas\n",
    "import pandas as pd\n",
    "from pandas import Series,DataFrame\n",
    "\n",
    "# Loading the data\n",
    "df = pd.read_csv('C:\\\\Users\\\\Saiful_desv\\\\Desktop\\\\Segmentation in Python\\\\segmentation_draft.csv')\n",
    "\n",
    "\n",
    "# We could also get overall info for the dataset\n",
    "df.info()"
   ]
  },
  {
   "cell_type": "code",
   "execution_count": 3,
   "metadata": {},
   "outputs": [
    {
     "data": {
      "text/html": [
       "<div>\n",
       "<style scoped>\n",
       "    .dataframe tbody tr th:only-of-type {\n",
       "        vertical-align: middle;\n",
       "    }\n",
       "\n",
       "    .dataframe tbody tr th {\n",
       "        vertical-align: top;\n",
       "    }\n",
       "\n",
       "    .dataframe thead th {\n",
       "        text-align: right;\n",
       "    }\n",
       "</style>\n",
       "<table border=\"1\" class=\"dataframe\">\n",
       "  <thead>\n",
       "    <tr style=\"text-align: right;\">\n",
       "      <th></th>\n",
       "      <th>market</th>\n",
       "      <th>producer</th>\n",
       "      <th>totalcomb</th>\n",
       "      <th>newrfpdtq</th>\n",
       "      <th>combnewrenrfpsold</th>\n",
       "    </tr>\n",
       "  </thead>\n",
       "  <tbody>\n",
       "    <tr>\n",
       "      <th>0</th>\n",
       "      <td>Arizona</td>\n",
       "      <td>Ariz1</td>\n",
       "      <td>1</td>\n",
       "      <td>0</td>\n",
       "      <td>1</td>\n",
       "    </tr>\n",
       "    <tr>\n",
       "      <th>1</th>\n",
       "      <td>Arizona</td>\n",
       "      <td>Ariz2</td>\n",
       "      <td>2</td>\n",
       "      <td>2</td>\n",
       "      <td>0</td>\n",
       "    </tr>\n",
       "    <tr>\n",
       "      <th>2</th>\n",
       "      <td>Arizona</td>\n",
       "      <td>Ariz3</td>\n",
       "      <td>6</td>\n",
       "      <td>4</td>\n",
       "      <td>0</td>\n",
       "    </tr>\n",
       "    <tr>\n",
       "      <th>3</th>\n",
       "      <td>Arizona</td>\n",
       "      <td>Ariz4</td>\n",
       "      <td>1</td>\n",
       "      <td>0</td>\n",
       "      <td>0</td>\n",
       "    </tr>\n",
       "    <tr>\n",
       "      <th>4</th>\n",
       "      <td>Arizona</td>\n",
       "      <td>Ariz5</td>\n",
       "      <td>1</td>\n",
       "      <td>0</td>\n",
       "      <td>0</td>\n",
       "    </tr>\n",
       "  </tbody>\n",
       "</table>\n",
       "</div>"
      ],
      "text/plain": [
       "    market producer  totalcomb  newrfpdtq  combnewrenrfpsold\n",
       "0  Arizona    Ariz1          1          0                  1\n",
       "1  Arizona    Ariz2          2          2                  0\n",
       "2  Arizona    Ariz3          6          4                  0\n",
       "3  Arizona    Ariz4          1          0                  0\n",
       "4  Arizona    Ariz5          1          0                  0"
      ]
     },
     "execution_count": 3,
     "metadata": {},
     "output_type": "execute_result"
    }
   ],
   "source": [
    "# Let's see a preview of the data\n",
    "df.head()\n"
   ]
  },
  {
   "cell_type": "code",
   "execution_count": 4,
   "metadata": {},
   "outputs": [
    {
     "data": {
      "text/html": [
       "<div>\n",
       "<style scoped>\n",
       "    .dataframe tbody tr th:only-of-type {\n",
       "        vertical-align: middle;\n",
       "    }\n",
       "\n",
       "    .dataframe tbody tr th {\n",
       "        vertical-align: top;\n",
       "    }\n",
       "\n",
       "    .dataframe thead th {\n",
       "        text-align: right;\n",
       "    }\n",
       "</style>\n",
       "<table border=\"1\" class=\"dataframe\">\n",
       "  <thead>\n",
       "    <tr style=\"text-align: right;\">\n",
       "      <th></th>\n",
       "      <th>market</th>\n",
       "      <th>producer</th>\n",
       "      <th>totalcomb</th>\n",
       "      <th>newrfpdtq</th>\n",
       "      <th>combnewrenrfpsold</th>\n",
       "    </tr>\n",
       "  </thead>\n",
       "  <tbody>\n",
       "    <tr>\n",
       "      <th>count</th>\n",
       "      <td>5357</td>\n",
       "      <td>5357</td>\n",
       "      <td>5357.000000</td>\n",
       "      <td>5357.000000</td>\n",
       "      <td>5357.000000</td>\n",
       "    </tr>\n",
       "    <tr>\n",
       "      <th>unique</th>\n",
       "      <td>19</td>\n",
       "      <td>5357</td>\n",
       "      <td>NaN</td>\n",
       "      <td>NaN</td>\n",
       "      <td>NaN</td>\n",
       "    </tr>\n",
       "    <tr>\n",
       "      <th>top</th>\n",
       "      <td>NY/NJ</td>\n",
       "      <td>MidA87</td>\n",
       "      <td>NaN</td>\n",
       "      <td>NaN</td>\n",
       "      <td>NaN</td>\n",
       "    </tr>\n",
       "    <tr>\n",
       "      <th>freq</th>\n",
       "      <td>590</td>\n",
       "      <td>1</td>\n",
       "      <td>NaN</td>\n",
       "      <td>NaN</td>\n",
       "      <td>NaN</td>\n",
       "    </tr>\n",
       "    <tr>\n",
       "      <th>mean</th>\n",
       "      <td>NaN</td>\n",
       "      <td>NaN</td>\n",
       "      <td>9.570655</td>\n",
       "      <td>3.751353</td>\n",
       "      <td>2.161284</td>\n",
       "    </tr>\n",
       "    <tr>\n",
       "      <th>std</th>\n",
       "      <td>NaN</td>\n",
       "      <td>NaN</td>\n",
       "      <td>26.475525</td>\n",
       "      <td>10.938084</td>\n",
       "      <td>6.940947</td>\n",
       "    </tr>\n",
       "    <tr>\n",
       "      <th>min</th>\n",
       "      <td>NaN</td>\n",
       "      <td>NaN</td>\n",
       "      <td>0.000000</td>\n",
       "      <td>0.000000</td>\n",
       "      <td>0.000000</td>\n",
       "    </tr>\n",
       "    <tr>\n",
       "      <th>25%</th>\n",
       "      <td>NaN</td>\n",
       "      <td>NaN</td>\n",
       "      <td>1.000000</td>\n",
       "      <td>0.000000</td>\n",
       "      <td>0.000000</td>\n",
       "    </tr>\n",
       "    <tr>\n",
       "      <th>50%</th>\n",
       "      <td>NaN</td>\n",
       "      <td>NaN</td>\n",
       "      <td>2.000000</td>\n",
       "      <td>1.000000</td>\n",
       "      <td>0.000000</td>\n",
       "    </tr>\n",
       "    <tr>\n",
       "      <th>75%</th>\n",
       "      <td>NaN</td>\n",
       "      <td>NaN</td>\n",
       "      <td>6.000000</td>\n",
       "      <td>2.000000</td>\n",
       "      <td>1.000000</td>\n",
       "    </tr>\n",
       "    <tr>\n",
       "      <th>max</th>\n",
       "      <td>NaN</td>\n",
       "      <td>NaN</td>\n",
       "      <td>384.000000</td>\n",
       "      <td>153.000000</td>\n",
       "      <td>110.000000</td>\n",
       "    </tr>\n",
       "  </tbody>\n",
       "</table>\n",
       "</div>"
      ],
      "text/plain": [
       "       market producer    totalcomb    newrfpdtq  combnewrenrfpsold\n",
       "count    5357     5357  5357.000000  5357.000000        5357.000000\n",
       "unique     19     5357          NaN          NaN                NaN\n",
       "top     NY/NJ   MidA87          NaN          NaN                NaN\n",
       "freq      590        1          NaN          NaN                NaN\n",
       "mean      NaN      NaN     9.570655     3.751353           2.161284\n",
       "std       NaN      NaN    26.475525    10.938084           6.940947\n",
       "min       NaN      NaN     0.000000     0.000000           0.000000\n",
       "25%       NaN      NaN     1.000000     0.000000           0.000000\n",
       "50%       NaN      NaN     2.000000     1.000000           0.000000\n",
       "75%       NaN      NaN     6.000000     2.000000           1.000000\n",
       "max       NaN      NaN   384.000000   153.000000         110.000000"
      ]
     },
     "execution_count": 4,
     "metadata": {},
     "output_type": "execute_result"
    }
   ],
   "source": [
    "# Summary of all variables\n",
    "df.describe(include='all')"
   ]
  },
  {
   "cell_type": "code",
   "execution_count": 35,
   "metadata": {},
   "outputs": [
    {
     "data": {
      "text/plain": [
       "Index(['Arizona', 'California North', 'California South', 'Carolinas',\n",
       "       'Connecticut', 'Florida South', 'Florida Tampa/Orlando', 'GA/AL',\n",
       "       'Houston', 'Liberty Valley', 'MD/VA/DC', 'MidAmerica', 'Midwest',\n",
       "       'Mountain States', 'NY/NJ', 'New England', 'Pacific Northwest',\n",
       "       'Tennessee', 'Texas North'],\n",
       "      dtype='object', name='market')"
      ]
     },
     "execution_count": 35,
     "metadata": {},
     "output_type": "execute_result"
    }
   ],
   "source": [
    "# Groupby party and then count donations\n",
    "g= df.groupby('market')['totalcomb'].mean()\n",
    "g.keys()\n"
   ]
  },
  {
   "cell_type": "code",
   "execution_count": 45,
   "metadata": {},
   "outputs": [],
   "source": [
    "# libraries\n",
    "import numpy as np\n",
    "import matplotlib.pyplot as plt\n",
    " \n",
    "# set width of bar\n",
    "barWidth = 0.25\n",
    " \n",
    "# set height of bar\n",
    "bars1 = df.groupby('market')['totalcomb'].mean()\n",
    "bars2 = df.groupby('market')['newrfpdtq'].mean()\n",
    "bars3 = df.groupby('market')['combnewrenrfpsold'].mean()\n",
    "\n",
    "# Set position of bar on X axis\n",
    "r1 = np.arange(len(bars1))\n",
    "r2 = [x + barWidth for x in r1]\n",
    "r3 = [x + barWidth for x in r2]\n",
    "\n",
    "keys = bars1.keys()\n",
    "\n",
    "# Make the plot\n",
    "plt.barh(r1, bars1, color='#7f6d5f', width=barWidth, edgecolor='white', label='totalcomb')\n",
    "plt.barh(r2, bars2, color='#557f2d', width=barWidth, edgecolor='white', label='newrfpdtq')\n",
    "plt.barh(r3, bars3, color='#2d7f5e', width=barWidth, edgecolor='white', label='combnewrenrfpsold')\n",
    " \n",
    "# Add xticks on the middle of the group bars\n",
    "plt.xlabel('group', fontweight='bold')\n",
    "plt.xticks([r + barWidth for r in range(len(bars1))],keys)\n",
    " \n",
    "# Create legend & Show graphic\n",
    "plt.legend()\n",
    "plt.show()\n"
   ]
  },
  {
   "cell_type": "code",
   "execution_count": 46,
   "metadata": {},
   "outputs": [
    {
     "data": {
      "text/plain": [
       "market\n",
       "Arizona                   7.912548\n",
       "California North          8.941176\n",
       "California South          6.624473\n",
       "Carolinas                10.219409\n",
       "Connecticut               9.093525\n",
       "Florida South             9.118721\n",
       "Florida Tampa/Orlando     8.357724\n",
       "GA/AL                    10.514894\n",
       "Houston                  11.217391\n",
       "Liberty Valley            9.260073\n",
       "MD/VA/DC                 12.385417\n",
       "MidAmerica               10.703883\n",
       "Midwest                  10.419780\n",
       "Mountain States          10.829787\n",
       "NY/NJ                     8.191525\n",
       "New England               7.656805\n",
       "Pacific Northwest        12.733668\n",
       "Tennessee                 9.061372\n",
       "Texas North              11.463602\n",
       "Name: totalcomb, dtype: float64"
      ]
     },
     "execution_count": 46,
     "metadata": {},
     "output_type": "execute_result"
    }
   ],
   "source": [
    "bars1 = df.groupby('market')['totalcomb'].mean()\n",
    "bars1"
   ]
  },
  {
   "cell_type": "code",
   "execution_count": 48,
   "metadata": {},
   "outputs": [
    {
     "name": "stderr",
     "output_type": "stream",
     "text": [
      "C:\\Users\\Saiful_desv\\Anaconda3\\lib\\site-packages\\pandas\\plotting\\_core.py:211: UserWarning: 'color' and 'colormap' cannot be used simultaneously. Using 'color'\n",
      "  warnings.warn(\"'color' and 'colormap' cannot be used \"\n",
      "C:\\Users\\Saiful_desv\\Anaconda3\\lib\\site-packages\\pandas\\plotting\\_style.py:31: UserWarning: 'color' and 'colormap' cannot be used simultaneously. Using 'color'\n",
      "  warnings.warn(\"'color' and 'colormap' cannot be used \"\n"
     ]
    },
    {
     "data": {
      "image/png": "[encoded data removed]",
      "text/plain": [
       "<Figure size 720x864 with 1 Axes>"
      ]
     },
     "metadata": {
      "needs_background": "light"
     },
     "output_type": "display_data"
    }
   ],
   "source": [
    "# Horizontal plot, use a convienently colored cmap\n",
    "bars1.plot(kind='barh',color='#7f6d5f',figsize=(10,12),cmap='seismic',label='totalcomb')\n",
    "bars2.plot(kind='barh',color='#557f2d',figsize=(10,12),cmap='seismic',label='newrfpdtq')\n",
    "bars3.plot(kind='barh',color='#2d7f5e',figsize=(10,12),cmap='seismic',label='combnewrenrfpsold')\n",
    "\n",
    "# Create legend & Show graphic\n",
    "plt.legend()\n",
    "plt.show()"
   ]
  },
  {
   "cell_type": "code",
   "execution_count": null,
   "metadata": {},
   "outputs": [],
   "source": []
  }
 ],
 "metadata": {
  "kernelspec": {
   "display_name": "Python 3",
   "language": "python",
   "name": "python3"
  },
  "language_info": {
   "codemirror_mode": {
    "name": "ipython",
    "version": 3
   },
   "file_extension": ".py",
   "mimetype": "text/x-python",
   "name": "python",
   "nbconvert_exporter": "python",
   "pygments_lexer": "ipython3",
   "version": "3.7.0"
  }
 },
 "nbformat": 4,
 "nbformat_minor": 2
}
